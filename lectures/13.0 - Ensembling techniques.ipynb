{
  "cells": [
    {
      "cell_type": "code",
      "source": [
        "from google.colab import drive\n",
        "drive.mount('/content/drive')"
      ],
      "metadata": {
        "id": "m6txuWxFvY9j",
        "outputId": "28b2749b-7c3e-493e-f7ba-788da010be72",
        "colab": {
          "base_uri": "https://localhost:8080/"
        }
      },
      "execution_count": 1,
      "outputs": [
        {
          "output_type": "stream",
          "name": "stdout",
          "text": [
            "Mounted at /content/drive\n"
          ]
        }
      ]
    },
    {
      "cell_type": "code",
      "execution_count": 2,
      "metadata": {
        "id": "t4FP1YYgvWMv",
        "outputId": "a873cb59-fa39-436b-ab28-09554af7e034",
        "colab": {
          "base_uri": "https://localhost:8080/"
        }
      },
      "outputs": [
        {
          "output_type": "stream",
          "name": "stdout",
          "text": [
            "Fitting 3 folds for each of 10 candidates, totalling 30 fits\n"
          ]
        },
        {
          "output_type": "execute_result",
          "data": {
            "text/plain": [
              "GridSearchCV(cv=StratifiedKFold(n_splits=3, random_state=42, shuffle=True),\n",
              "             estimator=RandomForestClassifier(max_depth=4, n_estimators=10,\n",
              "                                              n_jobs=-1, random_state=42),\n",
              "             n_jobs=-1,\n",
              "             param_grid={'max_features': [3, 4, 5, 6, 7],\n",
              "                         'min_samples_leaf': [3, 5]},\n",
              "             scoring='roc_auc', verbose=1)"
            ]
          },
          "metadata": {},
          "execution_count": 2
        }
      ],
      "source": [
        "import pandas as pd\n",
        "import numpy as np\n",
        "from sklearn.linear_model import Ridge\n",
        "from sklearn.ensemble import RandomForestClassifier, ExtraTreesClassifier\n",
        "from sklearn.model_selection import cross_val_score, StratifiedKFold, RandomizedSearchCV, GridSearchCV\n",
        "from sklearn.metrics import roc_auc_score\n",
        "\n",
        "data = pd.read_csv(\"/content/drive/MyDrive/projector_course_data/credit_scoring_sample.csv\", sep=\";\")\n",
        "\n",
        "y = data[\"SeriousDlqin2yrs\"].astype(int)\n",
        "X = data.drop([\"SeriousDlqin2yrs\"], axis=1)\n",
        "X = X.fillna(X.median())\n",
        "\n",
        "skf = StratifiedKFold(n_splits=3, shuffle=True, random_state=42)\n",
        "\n",
        "\n",
        "parameters = {\"max_features\": [3, 4, 5, 6, 7], \"min_samples_leaf\": [3, 5]}\n",
        "rfc = RandomForestClassifier(n_estimators=10, random_state=42, max_depth=4, n_jobs=-1)\n",
        "rfcv = GridSearchCV(rfc, parameters, n_jobs=-1, cv=skf, verbose=1, scoring='roc_auc')\n",
        "rfcv.fit(X, y)"
      ]
    },
    {
      "cell_type": "code",
      "execution_count": 3,
      "metadata": {
        "id": "og0raEpevWMz",
        "outputId": "f6223e16-1799-481c-d08e-d60d38a19620",
        "colab": {
          "base_uri": "https://localhost:8080/"
        }
      },
      "outputs": [
        {
          "output_type": "execute_result",
          "data": {
            "text/plain": [
              "(RandomForestClassifier(max_depth=4, max_features=3, min_samples_leaf=3,\n",
              "                        n_estimators=10, n_jobs=-1, random_state=42),\n",
              " 0.8241468790443588)"
            ]
          },
          "metadata": {},
          "execution_count": 3
        }
      ],
      "source": [
        "rfcv.best_estimator_, rfcv.best_score_"
      ]
    },
    {
      "cell_type": "code",
      "execution_count": 4,
      "metadata": {
        "id": "v0Bt67c6vWMz",
        "outputId": "def66321-0f2c-481c-8527-41a08fa7dbbb",
        "colab": {
          "base_uri": "https://localhost:8080/"
        }
      },
      "outputs": [
        {
          "output_type": "stream",
          "name": "stdout",
          "text": [
            "Fitting 3 folds for each of 60 candidates, totalling 180 fits\n"
          ]
        },
        {
          "output_type": "execute_result",
          "data": {
            "text/plain": [
              "GridSearchCV(cv=StratifiedKFold(n_splits=3, random_state=42, shuffle=True),\n",
              "             estimator=ExtraTreesClassifier(n_jobs=-1, random_state=42),\n",
              "             n_jobs=-1,\n",
              "             param_grid={'max_depth': [5, 10, 15, 20],\n",
              "                         'max_features': [3, 4, 5, 6, 7],\n",
              "                         'min_samples_leaf': [1, 3, 5]},\n",
              "             scoring='roc_auc', verbose=1)"
            ]
          },
          "metadata": {},
          "execution_count": 4
        }
      ],
      "source": [
        "parameters = {\"max_features\": [3, 4, 5, 6, 7], \"min_samples_leaf\": [1, 3, 5], \"max_depth\": [5,10,15,20]}\n",
        "etc = ExtraTreesClassifier(n_estimators=100, random_state=42, n_jobs=-1)\n",
        "etcv = GridSearchCV(etc, parameters, n_jobs=-1, cv=skf, verbose=1, scoring='roc_auc')\n",
        "etcv.fit(X, y)"
      ]
    },
    {
      "cell_type": "code",
      "execution_count": 5,
      "metadata": {
        "id": "CDBjdIyrvWM0",
        "outputId": "4238cc76-e267-448c-f1a8-b473a6840517",
        "colab": {
          "base_uri": "https://localhost:8080/"
        }
      },
      "outputs": [
        {
          "output_type": "execute_result",
          "data": {
            "text/plain": [
              "(ExtraTreesClassifier(max_depth=20, max_features=5, min_samples_leaf=5,\n",
              "                      n_jobs=-1, random_state=42), 0.8234071378454036)"
            ]
          },
          "metadata": {},
          "execution_count": 5
        }
      ],
      "source": [
        "etcv.best_estimator_, etcv.best_score_"
      ]
    },
    {
      "cell_type": "code",
      "execution_count": 6,
      "metadata": {
        "id": "AWZjUG-xvWM0",
        "outputId": "ec2537ad-92b0-4428-b3d7-aba90ed55f46",
        "colab": {
          "base_uri": "https://localhost:8080/",
          "height": 460
        }
      },
      "outputs": [
        {
          "output_type": "stream",
          "name": "stdout",
          "text": [
            "Feature ranking:\n",
            "1. NumberOfTimes90DaysLate 0.346244 \n",
            "2. NumberOfTime30-59DaysPastDueNotWorse 0.289354 \n",
            "3. NumberOfTime60-89DaysPastDueNotWorse 0.198681 \n",
            "4. age 0.097753 \n",
            "5. MonthlyIncome 0.026552 \n",
            "6. NumberOfDependents 0.020913 \n",
            "7. DebtRatio 0.020503 \n"
          ]
        },
        {
          "output_type": "display_data",
          "data": {
            "text/plain": [
              "<Figure size 1080x360 with 1 Axes>"
            ],
            "image/png": "[encoded data removed]"
          },
          "metadata": {
            "needs_background": "light"
          }
        }
      ],
      "source": [
        "import warnings\n",
        "warnings.filterwarnings('ignore')\n",
        "%matplotlib inline\n",
        "from matplotlib import pyplot as plt\n",
        "\n",
        "importances = etcv.best_estimator_.feature_importances_\n",
        "features = X.columns\n",
        "\n",
        "indices = np.argsort(importances)[::-1]\n",
        "# Plot the feature importancies of the forest\n",
        "num_to_plot = len(features)\n",
        "feature_indices = [ind+1 for ind in indices[:num_to_plot]]\n",
        "\n",
        "# Print the feature ranking\n",
        "print(\"Feature ranking:\")\n",
        "  \n",
        "for f in range(num_to_plot):\n",
        "    print(\"%d. %s %f \" % (f + 1, \n",
        "            features[feature_indices[f]-1], \n",
        "            importances[indices[f]]))\n",
        "plt.figure(figsize=(15,5))\n",
        "plt.title(\"Feature importance Extratrees\")\n",
        "bars = plt.bar(range(num_to_plot), \n",
        "               importances[indices[:num_to_plot]],\n",
        "       color=([str(i/float(num_to_plot+1)) \n",
        "               for i in range(num_to_plot)]),\n",
        "               align=\"center\")\n",
        "ticks = plt.xticks(range(num_to_plot), \n",
        "                   feature_indices)\n",
        "plt.xlim([-1, num_to_plot])\n",
        "plt.legend(bars, [u''.join(features[i-1]) + \" ({})\".format(i) \n",
        "                  for i in feature_indices]);"
      ]
    },
    {
      "cell_type": "code",
      "execution_count": 7,
      "metadata": {
        "id": "tsd6fSBMvWM1"
      },
      "outputs": [],
      "source": [
        "rf = rfcv.best_estimator_\n",
        "et = etcv.best_estimator_\n",
        "rf_predictions = []\n",
        "et_predictions = []\n",
        "\n",
        "for train, val in skf.split(X, y):\n",
        "    rf.fit(X.iloc[train], y[train])\n",
        "    et.fit(X.iloc[train], y[train])\n",
        "    rf_predictions.append([y[val], rf.predict_proba(X.iloc[val])[:,1]])\n",
        "    et_predictions.append([y[val], et.predict_proba(X.iloc[val])[:,1]])"
      ]
    },
    {
      "cell_type": "code",
      "execution_count": 8,
      "metadata": {
        "id": "DkJbSO-1vWM1",
        "outputId": "df991ad4-891e-4d24-9901-cf7a4a911e93",
        "colab": {
          "base_uri": "https://localhost:8080/"
        }
      },
      "outputs": [
        {
          "output_type": "execute_result",
          "data": {
            "text/plain": [
              "(0.8241468790443588, 0.8234071378454036)"
            ]
          },
          "metadata": {},
          "execution_count": 8
        }
      ],
      "source": [
        "np.mean([roc_auc_score(i[0], i[1]) for i in rf_predictions]), np.mean([roc_auc_score(i[0], i[1]) for i in et_predictions])"
      ]
    },
    {
      "cell_type": "markdown",
      "metadata": {
        "id": "gVLRQPC5vWM2"
      },
      "source": [
        "# Simple averaging"
      ]
    },
    {
      "cell_type": "code",
      "execution_count": 9,
      "metadata": {
        "id": "r_CBC4x3vWM3",
        "outputId": "afab2cef-230b-4b25-c749-8ade86f3d79d",
        "colab": {
          "base_uri": "https://localhost:8080/"
        }
      },
      "outputs": [
        {
          "output_type": "execute_result",
          "data": {
            "text/plain": [
              "0.8255888871654822"
            ]
          },
          "metadata": {},
          "execution_count": 9
        }
      ],
      "source": [
        "np.mean([roc_auc_score(rf_p[0], rf_p[1]*0.5 + et_p[1]*0.5) for rf_p, et_p in zip(rf_predictions, et_predictions)])"
      ]
    },
    {
      "cell_type": "markdown",
      "metadata": {
        "id": "dVYXYbEdvWM3"
      },
      "source": [
        "# Geometric mean"
      ]
    },
    {
      "cell_type": "code",
      "execution_count": 10,
      "metadata": {
        "id": "AAB95WEDvWM4",
        "outputId": "586657bf-f4d6-498a-da10-593f20f61692",
        "colab": {
          "base_uri": "https://localhost:8080/"
        }
      },
      "outputs": [
        {
          "output_type": "execute_result",
          "data": {
            "text/plain": [
              "0.8254447717550946"
            ]
          },
          "metadata": {},
          "execution_count": 10
        }
      ],
      "source": [
        "np.mean([roc_auc_score(rf_p[0], np.sqrt(rf_p[1]*et_p[1])) for rf_p, et_p in zip(rf_predictions, et_predictions)])"
      ]
    },
    {
      "cell_type": "markdown",
      "metadata": {
        "id": "hBdsp5syvWM4"
      },
      "source": [
        "# Rank average"
      ]
    },
    {
      "cell_type": "code",
      "execution_count": 11,
      "metadata": {
        "id": "e6oWZccpvWM4",
        "outputId": "8ecfa953-d099-4e12-fbd7-aac0559f8fb0",
        "colab": {
          "base_uri": "https://localhost:8080/"
        }
      },
      "outputs": [
        {
          "output_type": "execute_result",
          "data": {
            "text/plain": [
              "0.8263121671820063"
            ]
          },
          "metadata": {},
          "execution_count": 11
        }
      ],
      "source": [
        "from scipy.stats import rankdata\n",
        "np.mean([roc_auc_score(rf_p[0], rankdata(rf_p[1]) + rankdata(et_p[1])) for rf_p, et_p in zip(rf_predictions, et_predictions)])"
      ]
    },
    {
      "cell_type": "markdown",
      "metadata": {
        "id": "ZkF08WEnvWM5"
      },
      "source": [
        "# Weighted average"
      ]
    },
    {
      "cell_type": "code",
      "execution_count": 12,
      "metadata": {
        "scrolled": true,
        "id": "1cLzo6NMvWM5",
        "outputId": "c26158de-a7bb-4cc8-fcf6-ef2bc99bd8d8",
        "colab": {
          "base_uri": "https://localhost:8080/"
        }
      },
      "outputs": [
        {
          "output_type": "execute_result",
          "data": {
            "text/plain": [
              "0.8261090605303"
            ]
          },
          "metadata": {},
          "execution_count": 12
        }
      ],
      "source": [
        "np.mean([roc_auc_score(rf_p[0], rf_p[1]*0.75 + et_p[1]*0.25) for rf_p, et_p in zip(rf_predictions, et_predictions)])"
      ]
    },
    {
      "cell_type": "markdown",
      "metadata": {
        "id": "T-rlHgVevWM5"
      },
      "source": [
        "# Blending\n",
        "\n",
        "1. Divide a training dataset on a new train and hold out.\n",
        "2. Train n-models on the new training dataset and make predictions on hold-out.\n",
        "3. Concatenate all hold-out predictions and train a new meta-model on this data.\n",
        "4. Make predictions on test data with models trained on the \"new train\" dataset.\n",
        "5. Concatenate these predictions and use a meta-model to get final predictions.\n",
        "\n",
        "![image](https://github.com/terpiljenya/machine_learning_projector/blob/main/pictures/blending.png?raw=1)"
      ]
    },
    {
      "cell_type": "markdown",
      "metadata": {
        "id": "2-ZP567WvWM6"
      },
      "source": [
        "# Stacking\n",
        "\n",
        "1. Split train data on n-folds.\n",
        "2. Train on each fold a model and make predictions for a hold-out fold.\n",
        "3. Concatenate hold-out folds predictions and add them as a new meta-feature. Train a final meta-model.\n",
        "4. Train a first-level model on the whole train data set.\n",
        "5. Make predictions on a test set with the first-level model. Get your meta-feature for the test set.\n",
        "6. Concatenate the meta-feature to the test set. Use the meta-model from step 3 to make final predictions.\n",
        "\n",
        "![image](https://github.com/terpiljenya/machine_learning_projector/blob/main/pictures/stacking.png?raw=1)"
      ]
    },
    {
      "cell_type": "code",
      "execution_count": null,
      "metadata": {
        "id": "ER0SOJhgvWM6"
      },
      "outputs": [],
      "source": [
        "X[\"rf_preds\"] = 0\n",
        "X[\"et_preds\"] = 0"
      ]
    },
    {
      "cell_type": "code",
      "execution_count": null,
      "metadata": {
        "id": "1c58Gk3QvWM6"
      },
      "outputs": [],
      "source": [
        "for i, fold in enumerate(skf.split(X, y)):\n",
        "    train, val = fold[0], fold[1]\n",
        "    X.iloc[val, -2] = rf_predictions[i][1]\n",
        "    X.iloc[val, -1] = et_predictions[i][1]"
      ]
    },
    {
      "cell_type": "code",
      "execution_count": null,
      "metadata": {
        "id": "vXBJ5jeUvWM6",
        "outputId": "9dacdfd3-e32d-43cc-c2e7-6ff1214b6354"
      },
      "outputs": [
        {
          "data": {
            "text/html": [
              "<div>\n",
              "<style scoped>\n",
              "    .dataframe tbody tr th:only-of-type {\n",
              "        vertical-align: middle;\n",
              "    }\n",
              "\n",
              "    .dataframe tbody tr th {\n",
              "        vertical-align: top;\n",
              "    }\n",
              "\n",
              "    .dataframe thead th {\n",
              "        text-align: right;\n",
              "    }\n",
              "</style>\n",
              "<table border=\"1\" class=\"dataframe\">\n",
              "  <thead>\n",
              "    <tr style=\"text-align: right;\">\n",
              "      <th></th>\n",
              "      <th>age</th>\n",
              "      <th>NumberOfTime30-59DaysPastDueNotWorse</th>\n",
              "      <th>DebtRatio</th>\n",
              "      <th>NumberOfTimes90DaysLate</th>\n",
              "      <th>NumberOfTime60-89DaysPastDueNotWorse</th>\n",
              "      <th>MonthlyIncome</th>\n",
              "      <th>NumberOfDependents</th>\n",
              "      <th>rf_preds</th>\n",
              "      <th>et_preds</th>\n",
              "    </tr>\n",
              "  </thead>\n",
              "  <tbody>\n",
              "    <tr>\n",
              "      <th>0</th>\n",
              "      <td>64</td>\n",
              "      <td>0</td>\n",
              "      <td>0.249908</td>\n",
              "      <td>0</td>\n",
              "      <td>0</td>\n",
              "      <td>8158.0</td>\n",
              "      <td>0.0</td>\n",
              "      <td>0.073941</td>\n",
              "      <td>0.060658</td>\n",
              "    </tr>\n",
              "    <tr>\n",
              "      <th>1</th>\n",
              "      <td>58</td>\n",
              "      <td>0</td>\n",
              "      <td>3870.000000</td>\n",
              "      <td>0</td>\n",
              "      <td>0</td>\n",
              "      <td>5166.0</td>\n",
              "      <td>0.0</td>\n",
              "      <td>0.082821</td>\n",
              "      <td>0.071172</td>\n",
              "    </tr>\n",
              "    <tr>\n",
              "      <th>2</th>\n",
              "      <td>41</td>\n",
              "      <td>0</td>\n",
              "      <td>0.456127</td>\n",
              "      <td>0</td>\n",
              "      <td>0</td>\n",
              "      <td>6666.0</td>\n",
              "      <td>0.0</td>\n",
              "      <td>0.138232</td>\n",
              "      <td>0.117570</td>\n",
              "    </tr>\n",
              "    <tr>\n",
              "      <th>3</th>\n",
              "      <td>43</td>\n",
              "      <td>0</td>\n",
              "      <td>0.000190</td>\n",
              "      <td>0</td>\n",
              "      <td>0</td>\n",
              "      <td>10500.0</td>\n",
              "      <td>2.0</td>\n",
              "      <td>0.123030</td>\n",
              "      <td>0.109082</td>\n",
              "    </tr>\n",
              "    <tr>\n",
              "      <th>4</th>\n",
              "      <td>49</td>\n",
              "      <td>0</td>\n",
              "      <td>0.271820</td>\n",
              "      <td>0</td>\n",
              "      <td>0</td>\n",
              "      <td>400.0</td>\n",
              "      <td>0.0</td>\n",
              "      <td>0.130461</td>\n",
              "      <td>0.138185</td>\n",
              "    </tr>\n",
              "  </tbody>\n",
              "</table>\n",
              "</div>"
            ],
            "text/plain": [
              "   age  NumberOfTime30-59DaysPastDueNotWorse    DebtRatio  \\\n",
              "0   64                                     0     0.249908   \n",
              "1   58                                     0  3870.000000   \n",
              "2   41                                     0     0.456127   \n",
              "3   43                                     0     0.000190   \n",
              "4   49                                     0     0.271820   \n",
              "\n",
              "   NumberOfTimes90DaysLate  NumberOfTime60-89DaysPastDueNotWorse  \\\n",
              "0                        0                                     0   \n",
              "1                        0                                     0   \n",
              "2                        0                                     0   \n",
              "3                        0                                     0   \n",
              "4                        0                                     0   \n",
              "\n",
              "   MonthlyIncome  NumberOfDependents  rf_preds  et_preds  \n",
              "0         8158.0                 0.0  0.073941  0.060658  \n",
              "1         5166.0                 0.0  0.082821  0.071172  \n",
              "2         6666.0                 0.0  0.138232  0.117570  \n",
              "3        10500.0                 2.0  0.123030  0.109082  \n",
              "4          400.0                 0.0  0.130461  0.138185  "
            ]
          },
          "execution_count": 20,
          "metadata": {},
          "output_type": "execute_result"
        }
      ],
      "source": [
        "X.head()"
      ]
    },
    {
      "cell_type": "code",
      "execution_count": null,
      "metadata": {
        "id": "suA0xLs2vWM6",
        "outputId": "c8fc65ed-37a8-4376-ec0d-83b973cc54dd"
      },
      "outputs": [
        {
          "name": "stdout",
          "output_type": "stream",
          "text": [
            "Fitting 3 folds for each of 60 candidates, totalling 180 fits\n"
          ]
        },
        {
          "name": "stderr",
          "output_type": "stream",
          "text": [
            "[Parallel(n_jobs=-1)]: Using backend LokyBackend with 12 concurrent workers.\n",
            "[Parallel(n_jobs=-1)]: Done  26 tasks      | elapsed:    3.0s\n",
            "[Parallel(n_jobs=-1)]: Done 180 out of 180 | elapsed:   31.1s finished\n"
          ]
        },
        {
          "data": {
            "text/plain": [
              "GridSearchCV(cv=StratifiedKFold(n_splits=3, random_state=42, shuffle=True),\n",
              "             error_score=nan,\n",
              "             estimator=ExtraTreesClassifier(bootstrap=False, ccp_alpha=0.0,\n",
              "                                            class_weight=None, criterion='gini',\n",
              "                                            max_depth=None, max_features='auto',\n",
              "                                            max_leaf_nodes=None,\n",
              "                                            max_samples=None,\n",
              "                                            min_impurity_decrease=0.0,\n",
              "                                            min_impurity_split=None,\n",
              "                                            min_samples_leaf=1,\n",
              "                                            min_samples_split=2,\n",
              "                                            min_weight_fraction_leaf=0.0,\n",
              "                                            n_estimators=100, n_jobs=-1,\n",
              "                                            oob_score=False, random_state=42,\n",
              "                                            verbose=0, warm_start=False),\n",
              "             iid='deprecated', n_jobs=-1,\n",
              "             param_grid={'max_depth': [5, 10, 15, 20],\n",
              "                         'max_features': [3, 4, 5, 6, 7],\n",
              "                         'min_samples_leaf': [1, 3, 5]},\n",
              "             pre_dispatch='2*n_jobs', refit=True, return_train_score=False,\n",
              "             scoring='roc_auc', verbose=1)"
            ]
          },
          "execution_count": 21,
          "metadata": {},
          "output_type": "execute_result"
        }
      ],
      "source": [
        "parameters = {'max_features': [3, 4, 5, 6, 7], 'min_samples_leaf': [1, 3, 5], 'max_depth': [5,10,15,20]}\n",
        "etc = ExtraTreesClassifier(n_estimators=100, random_state=42, n_jobs=-1)\n",
        "etcv = GridSearchCV(etc, parameters, n_jobs=-1, cv=skf, verbose=1, scoring='roc_auc')\n",
        "etcv.fit(X, y)"
      ]
    },
    {
      "cell_type": "code",
      "execution_count": null,
      "metadata": {
        "id": "SGkd6ChHvWM6",
        "outputId": "e644b092-9a16-4702-eafd-b16212a5186f"
      },
      "outputs": [
        {
          "data": {
            "text/plain": [
              "0.8283615523690123"
            ]
          },
          "execution_count": 22,
          "metadata": {},
          "output_type": "execute_result"
        }
      ],
      "source": [
        "etcv.best_score_"
      ]
    },
    {
      "cell_type": "code",
      "execution_count": null,
      "metadata": {
        "id": "5AMOfJSavWM7",
        "outputId": "f8919094-a969-47f0-8342-c4d1be1930b0"
      },
      "outputs": [
        {
          "name": "stdout",
          "output_type": "stream",
          "text": [
            "Feature ranking:\n",
            "1. rf_preds 0.426286 \n",
            "2. et_preds 0.376238 \n",
            "3. age 0.041384 \n",
            "4. NumberOfTimes90DaysLate 0.035426 \n",
            "5. NumberOfTime30-59DaysPastDueNotWorse 0.034189 \n",
            "6. NumberOfTime60-89DaysPastDueNotWorse 0.032770 \n",
            "7. MonthlyIncome 0.020093 \n",
            "8. DebtRatio 0.017004 \n",
            "9. NumberOfDependents 0.016610 \n"
          ]
        },
        {
          "data": {
            "image/png": "[encoded data removed]",
            "text/plain": [
              "<Figure size 1080x360 with 1 Axes>"
            ]
          },
          "metadata": {
            "needs_background": "light"
          },
          "output_type": "display_data"
        }
      ],
      "source": [
        "importances = etcv.best_estimator_.feature_importances_\n",
        "features = X.columns\n",
        "\n",
        "indices = np.argsort(importances)[::-1]\n",
        "# Plot the feature importancies of the forest\n",
        "num_to_plot = len(features)\n",
        "feature_indices = [ind+1 for ind in indices[:num_to_plot]]\n",
        "\n",
        "# Print the feature ranking\n",
        "print(\"Feature ranking:\")\n",
        "  \n",
        "for f in range(num_to_plot):\n",
        "    print(\"%d. %s %f \" % (f + 1, \n",
        "            features[feature_indices[f]-1], \n",
        "            importances[indices[f]]))\n",
        "plt.figure(figsize=(15,5))\n",
        "plt.title(u\"Важность признаков в стекинге\")\n",
        "bars = plt.bar(range(num_to_plot), \n",
        "               importances[indices[:num_to_plot]],\n",
        "       color=([str(i/float(num_to_plot+1)) \n",
        "               for i in range(num_to_plot)]),\n",
        "               align=\"center\")\n",
        "ticks = plt.xticks(range(num_to_plot), \n",
        "                   feature_indices)\n",
        "plt.xlim([-1, num_to_plot])\n",
        "plt.legend(bars, [u''.join(features[i-1]) + \" ({})\".format(i) \n",
        "                  for i in feature_indices]);"
      ]
    },
    {
      "cell_type": "code",
      "execution_count": null,
      "metadata": {
        "scrolled": true,
        "id": "F00CkKyZvWM7",
        "outputId": "6561939e-8751-422a-e0ac-8860ba51c368"
      },
      "outputs": [
        {
          "data": {
            "text/plain": [
              "array([[1.        , 0.97347315],\n",
              "       [0.97347315, 1.        ]])"
            ]
          },
          "execution_count": 24,
          "metadata": {},
          "output_type": "execute_result"
        }
      ],
      "source": [
        "np.corrcoef([X[\"rf_preds\"], X[\"et_preds\"]])"
      ]
    },
    {
      "cell_type": "code",
      "execution_count": null,
      "metadata": {
        "collapsed": true,
        "id": "S0Bq8M6yvWM7"
      },
      "outputs": [],
      "source": []
    }
  ],
  "metadata": {
    "kernelspec": {
      "display_name": "projector_course",
      "language": "python",
      "name": "projector_course"
    },
    "language_info": {
      "codemirror_mode": {
        "name": "ipython",
        "version": 3
      },
      "file_extension": ".py",
      "mimetype": "text/x-python",
      "name": "python",
      "nbconvert_exporter": "python",
      "pygments_lexer": "ipython3",
      "version": "3.6.8"
    },
    "colab": {
      "provenance": []
    }
  },
  "nbformat": 4,
  "nbformat_minor": 0
}