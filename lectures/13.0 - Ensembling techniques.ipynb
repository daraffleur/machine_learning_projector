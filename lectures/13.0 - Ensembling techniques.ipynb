{
  "cells": [
    {
      "cell_type": "code",
      "source": [
        "from google.colab import drive\n",
        "drive.mount('/content/drive')"
      ],
      "metadata": {
        "id": "m6txuWxFvY9j",
        "outputId": "8242d67e-c93a-46f3-dcbe-9509b64b7b30",
        "colab": {
          "base_uri": "https://localhost:8080/"
        }
      },
      "execution_count": 13,
      "outputs": [
        {
          "output_type": "stream",
          "name": "stdout",
          "text": [
            "Drive already mounted at /content/drive; to attempt to forcibly remount, call drive.mount(\"/content/drive\", force_remount=True).\n"
          ]
        }
      ]
    },
    {
      "cell_type": "code",
      "execution_count": 14,
      "metadata": {
        "id": "t4FP1YYgvWMv",
        "outputId": "b02a2b3c-b31b-4cee-ffd3-377c1461e5a7",
        "colab": {
          "base_uri": "https://localhost:8080/"
        }
      },
      "outputs": [
        {
          "output_type": "stream",
          "name": "stdout",
          "text": [
            "Fitting 3 folds for each of 10 candidates, totalling 30 fits\n"
          ]
        },
        {
          "output_type": "execute_result",
          "data": {
            "text/plain": [
              "GridSearchCV(cv=StratifiedKFold(n_splits=3, random_state=42, shuffle=True),\n",
              "             estimator=RandomForestClassifier(max_depth=4, n_estimators=10,\n",
              "                                              n_jobs=-1, random_state=42),\n",
              "             n_jobs=-1,\n",
              "             param_grid={'max_features': [3, 4, 5, 6, 7],\n",
              "                         'min_samples_leaf': [3, 5]},\n",
              "             scoring='roc_auc', verbose=1)"
            ]
          },
          "metadata": {},
          "execution_count": 14
        }
      ],
      "source": [
        "import pandas as pd\n",
        "import numpy as np\n",
        "from sklearn.linear_model import Ridge\n",
        "from sklearn.ensemble import RandomForestClassifier, ExtraTreesClassifier\n",
        "from sklearn.model_selection import cross_val_score, StratifiedKFold, RandomizedSearchCV, GridSearchCV\n",
        "from sklearn.metrics import roc_auc_score\n",
        "\n",
        "data = pd.read_csv(\"/content/drive/MyDrive/projector_course_data/credit_scoring_sample.csv\", sep=\";\")\n",
        "\n",
        "y = data[\"SeriousDlqin2yrs\"].astype(int)\n",
        "X = data.drop([\"SeriousDlqin2yrs\"], axis=1)\n",
        "X = X.fillna(X.median())\n",
        "\n",
        "skf = StratifiedKFold(n_splits=3, shuffle=True, random_state=42)\n",
        "\n",
        "\n",
        "parameters = {\"max_features\": [3, 4, 5, 6, 7], \"min_samples_leaf\": [3, 5]}\n",
        "rfc = RandomForestClassifier(n_estimators=10, random_state=42, max_depth=4, n_jobs=-1)\n",
        "rfcv = GridSearchCV(rfc, parameters, n_jobs=-1, cv=skf, verbose=1, scoring='roc_auc')\n",
        "rfcv.fit(X, y)"
      ]
    },
    {
      "cell_type": "code",
      "execution_count": 15,
      "metadata": {
        "id": "og0raEpevWMz",
        "outputId": "57e19055-ad73-47ad-bb74-73647e451ff2",
        "colab": {
          "base_uri": "https://localhost:8080/"
        }
      },
      "outputs": [
        {
          "output_type": "execute_result",
          "data": {
            "text/plain": [
              "(RandomForestClassifier(max_depth=4, max_features=3, min_samples_leaf=3,\n",
              "                        n_estimators=10, n_jobs=-1, random_state=42),\n",
              " 0.8241468790443588)"
            ]
          },
          "metadata": {},
          "execution_count": 15
        }
      ],
      "source": [
        "rfcv.best_estimator_, rfcv.best_score_"
      ]
    },
    {
      "cell_type": "code",
      "execution_count": 16,
      "metadata": {
        "id": "v0Bt67c6vWMz",
        "outputId": "d6902536-243e-4e84-814d-c61873d56117",
        "colab": {
          "base_uri": "https://localhost:8080/"
        }
      },
      "outputs": [
        {
          "output_type": "stream",
          "name": "stdout",
          "text": [
            "Fitting 3 folds for each of 60 candidates, totalling 180 fits\n"
          ]
        },
        {
          "output_type": "execute_result",
          "data": {
            "text/plain": [
              "GridSearchCV(cv=StratifiedKFold(n_splits=3, random_state=42, shuffle=True),\n",
              "             estimator=ExtraTreesClassifier(n_jobs=-1, random_state=42),\n",
              "             n_jobs=-1,\n",
              "             param_grid={'max_depth': [5, 10, 15, 20],\n",
              "                         'max_features': [3, 4, 5, 6, 7],\n",
              "                         'min_samples_leaf': [1, 3, 5]},\n",
              "             scoring='roc_auc', verbose=1)"
            ]
          },
          "metadata": {},
          "execution_count": 16
        }
      ],
      "source": [
        "parameters = {\"max_features\": [3, 4, 5, 6, 7], \"min_samples_leaf\": [1, 3, 5], \"max_depth\": [5,10,15,20]}\n",
        "etc = ExtraTreesClassifier(n_estimators=100, random_state=42, n_jobs=-1)\n",
        "etcv = GridSearchCV(etc, parameters, n_jobs=-1, cv=skf, verbose=1, scoring='roc_auc')\n",
        "etcv.fit(X, y)"
      ]
    },
    {
      "cell_type": "code",
      "execution_count": 17,
      "metadata": {
        "id": "CDBjdIyrvWM0",
        "outputId": "312a8426-31ec-42df-b2d3-892edc79a9d0",
        "colab": {
          "base_uri": "https://localhost:8080/"
        }
      },
      "outputs": [
        {
          "output_type": "execute_result",
          "data": {
            "text/plain": [
              "(ExtraTreesClassifier(max_depth=20, max_features=5, min_samples_leaf=5,\n",
              "                      n_jobs=-1, random_state=42), 0.8234071378454036)"
            ]
          },
          "metadata": {},
          "execution_count": 17
        }
      ],
      "source": [
        "etcv.best_estimator_, etcv.best_score_"
      ]
    },
    {
      "cell_type": "code",
      "execution_count": 18,
      "metadata": {
        "id": "AWZjUG-xvWM0",
        "outputId": "27a09832-7647-4490-c9e9-15474564ff92",
        "colab": {
          "base_uri": "https://localhost:8080/",
          "height": 460
        }
      },
      "outputs": [
        {
          "output_type": "stream",
          "name": "stdout",
          "text": [
            "Feature ranking:\n",
            "1. NumberOfTimes90DaysLate 0.346244 \n",
            "2. NumberOfTime30-59DaysPastDueNotWorse 0.289354 \n",
            "3. NumberOfTime60-89DaysPastDueNotWorse 0.198681 \n",
            "4. age 0.097753 \n",
            "5. MonthlyIncome 0.026552 \n",
            "6. NumberOfDependents 0.020913 \n",
            "7. DebtRatio 0.020503 \n"
          ]
        },
        {
          "output_type": "display_data",
          "data": {
            "text/plain": [
              "<Figure size 1080x360 with 1 Axes>"
            ],
            "image/png": "[encoded data removed]"
          },
          "metadata": {
            "needs_background": "light"
          }
        }
      ],
      "source": [
        "import warnings\n",
        "warnings.filterwarnings('ignore')\n",
        "%matplotlib inline\n",
        "from matplotlib import pyplot as plt\n",
        "\n",
        "importances = etcv.best_estimator_.feature_importances_\n",
        "features = X.columns\n",
        "\n",
        "indices = np.argsort(importances)[::-1]\n",
        "# Plot the feature importancies of the forest\n",
        "num_to_plot = len(features)\n",
        "feature_indices = [ind+1 for ind in indices[:num_to_plot]]\n",
        "\n",
        "# Print the feature ranking\n",
        "print(\"Feature ranking:\")\n",
        "  \n",
        "for f in range(num_to_plot):\n",
        "    print(\"%d. %s %f \" % (f + 1, \n",
        "            features[feature_indices[f]-1], \n",
        "            importances[indices[f]]))\n",
        "plt.figure(figsize=(15,5))\n",
        "plt.title(\"Extratrees feature importance\")\n",
        "bars = plt.bar(range(num_to_plot), \n",
        "               importances[indices[:num_to_plot]],\n",
        "       color=([str(i/float(num_to_plot+1)) \n",
        "               for i in range(num_to_plot)]),\n",
        "               align=\"center\")\n",
        "ticks = plt.xticks(range(num_to_plot), \n",
        "                   feature_indices)\n",
        "plt.xlim([-1, num_to_plot])\n",
        "plt.legend(bars, [u''.join(features[i-1]) + \" ({})\".format(i) \n",
        "                  for i in feature_indices]);"
      ]
    },
    {
      "cell_type": "code",
      "execution_count": 19,
      "metadata": {
        "id": "tsd6fSBMvWM1"
      },
      "outputs": [],
      "source": [
        "rf = rfcv.best_estimator_\n",
        "et = etcv.best_estimator_\n",
        "rf_predictions = []\n",
        "et_predictions = []\n",
        "\n",
        "for train, val in skf.split(X, y):\n",
        "    rf.fit(X.iloc[train], y[train])\n",
        "    et.fit(X.iloc[train], y[train])\n",
        "    rf_predictions.append([y[val], rf.predict_proba(X.iloc[val])[:,1]])\n",
        "    et_predictions.append([y[val], et.predict_proba(X.iloc[val])[:,1]])"
      ]
    },
    {
      "cell_type": "code",
      "execution_count": 20,
      "metadata": {
        "id": "DkJbSO-1vWM1",
        "outputId": "da86612a-6313-4e93-88a9-102a88a4a43c",
        "colab": {
          "base_uri": "https://localhost:8080/"
        }
      },
      "outputs": [
        {
          "output_type": "execute_result",
          "data": {
            "text/plain": [
              "(0.8241468790443588, 0.8234071378454036)"
            ]
          },
          "metadata": {},
          "execution_count": 20
        }
      ],
      "source": [
        "np.mean([roc_auc_score(i[0], i[1]) for i in rf_predictions]), np.mean([roc_auc_score(i[0], i[1]) for i in et_predictions])"
      ]
    },
    {
      "cell_type": "markdown",
      "metadata": {
        "id": "gVLRQPC5vWM2"
      },
      "source": [
        "# Simple averaging"
      ]
    },
    {
      "cell_type": "code",
      "execution_count": 21,
      "metadata": {
        "id": "r_CBC4x3vWM3",
        "outputId": "1bc915e9-4e6c-4c8d-88bd-c784dde079ac",
        "colab": {
          "base_uri": "https://localhost:8080/"
        }
      },
      "outputs": [
        {
          "output_type": "execute_result",
          "data": {
            "text/plain": [
              "0.8255888871654822"
            ]
          },
          "metadata": {},
          "execution_count": 21
        }
      ],
      "source": [
        "np.mean([roc_auc_score(rf_p[0], rf_p[1]*0.5 + et_p[1]*0.5) for rf_p, et_p in zip(rf_predictions, et_predictions)])"
      ]
    },
    {
      "cell_type": "markdown",
      "metadata": {
        "id": "dVYXYbEdvWM3"
      },
      "source": [
        "# Geometric mean"
      ]
    },
    {
      "cell_type": "code",
      "execution_count": 22,
      "metadata": {
        "id": "AAB95WEDvWM4",
        "outputId": "fe89d531-2f66-46a2-eabb-90a1fc76a37c",
        "colab": {
          "base_uri": "https://localhost:8080/"
        }
      },
      "outputs": [
        {
          "output_type": "execute_result",
          "data": {
            "text/plain": [
              "0.8254447717550946"
            ]
          },
          "metadata": {},
          "execution_count": 22
        }
      ],
      "source": [
        "np.mean([roc_auc_score(rf_p[0], np.sqrt(rf_p[1]*et_p[1])) for rf_p, et_p in zip(rf_predictions, et_predictions)])"
      ]
    },
    {
      "cell_type": "markdown",
      "metadata": {
        "id": "hBdsp5syvWM4"
      },
      "source": [
        "# Rank average"
      ]
    },
    {
      "cell_type": "code",
      "execution_count": 23,
      "metadata": {
        "id": "e6oWZccpvWM4",
        "outputId": "ee83c7fb-c95c-4540-87fa-170644e34709",
        "colab": {
          "base_uri": "https://localhost:8080/"
        }
      },
      "outputs": [
        {
          "output_type": "execute_result",
          "data": {
            "text/plain": [
              "0.8263121714520926"
            ]
          },
          "metadata": {},
          "execution_count": 23
        }
      ],
      "source": [
        "from scipy.stats import rankdata\n",
        "np.mean([roc_auc_score(rf_p[0], rankdata(rf_p[1]) + rankdata(et_p[1])) for rf_p, et_p in zip(rf_predictions, et_predictions)])"
      ]
    },
    {
      "cell_type": "markdown",
      "metadata": {
        "id": "ZkF08WEnvWM5"
      },
      "source": [
        "# Weighted average"
      ]
    },
    {
      "cell_type": "code",
      "execution_count": 24,
      "metadata": {
        "scrolled": true,
        "id": "1cLzo6NMvWM5",
        "outputId": "b798e5a9-3308-426b-f2d0-2d4fe47d2055",
        "colab": {
          "base_uri": "https://localhost:8080/"
        }
      },
      "outputs": [
        {
          "output_type": "execute_result",
          "data": {
            "text/plain": [
              "0.8261090605303"
            ]
          },
          "metadata": {},
          "execution_count": 24
        }
      ],
      "source": [
        "np.mean([roc_auc_score(rf_p[0], rf_p[1]*0.75 + et_p[1]*0.25) for rf_p, et_p in zip(rf_predictions, et_predictions)])"
      ]
    },
    {
      "cell_type": "markdown",
      "metadata": {
        "id": "T-rlHgVevWM5"
      },
      "source": [
        "# Blending\n",
        "\n",
        "1. Divide a training dataset on a new train and hold out.\n",
        "2. Train n-models on the new training dataset and make predictions on hold-out.\n",
        "3. Concatenate all hold-out predictions and train a new meta-model on this data.\n",
        "4. Make predictions on test data with models trained on the \"new train\" dataset.\n",
        "5. Concatenate these predictions and use a meta-model to get final predictions.\n",
        "\n",
        "![image](https://github.com/terpiljenya/machine_learning_projector/blob/main/pictures/blending.png?raw=1)"
      ]
    },
    {
      "cell_type": "markdown",
      "metadata": {
        "id": "2-ZP567WvWM6"
      },
      "source": [
        "# Stacking\n",
        "\n",
        "1. Split train data on n-folds.\n",
        "2. Train on each fold a model and make predictions for a hold-out fold.\n",
        "3. Concatenate hold-out folds predictions and add them as a new meta-feature. Train a final meta-model.\n",
        "4. Train a first-level model on the whole train data set.\n",
        "5. Make predictions on a test set with the first-level model. Get your meta-feature for the test set.\n",
        "6. Concatenate the meta-feature to the test set. Use the meta-model from step 3 to make final predictions.\n",
        "\n",
        "![image](https://github.com/terpiljenya/machine_learning_projector/blob/main/pictures/stacking.png?raw=1)"
      ]
    },
    {
      "cell_type": "code",
      "execution_count": 25,
      "metadata": {
        "id": "ER0SOJhgvWM6"
      },
      "outputs": [],
      "source": [
        "X[\"rf_preds\"] = 0\n",
        "X[\"et_preds\"] = 0"
      ]
    },
    {
      "cell_type": "code",
      "execution_count": 26,
      "metadata": {
        "id": "1c58Gk3QvWM6"
      },
      "outputs": [],
      "source": [
        "for i, fold in enumerate(skf.split(X, y)):\n",
        "    train, val = fold[0], fold[1]\n",
        "    X.iloc[val, -2] = rf_predictions[i][1]\n",
        "    X.iloc[val, -1] = et_predictions[i][1]"
      ]
    },
    {
      "cell_type": "code",
      "execution_count": 27,
      "metadata": {
        "id": "vXBJ5jeUvWM6",
        "outputId": "7d2a1172-d7b5-40f0-c265-c574d630ae3a",
        "colab": {
          "base_uri": "https://localhost:8080/",
          "height": 288
        }
      },
      "outputs": [
        {
          "output_type": "execute_result",
          "data": {
            "text/plain": [
              "   age  NumberOfTime30-59DaysPastDueNotWorse    DebtRatio  \\\n",
              "0   64                                     0     0.249908   \n",
              "1   58                                     0  3870.000000   \n",
              "2   41                                     0     0.456127   \n",
              "3   43                                     0     0.000190   \n",
              "4   49                                     0     0.271820   \n",
              "\n",
              "   NumberOfTimes90DaysLate  NumberOfTime60-89DaysPastDueNotWorse  \\\n",
              "0                        0                                     0   \n",
              "1                        0                                     0   \n",
              "2                        0                                     0   \n",
              "3                        0                                     0   \n",
              "4                        0                                     0   \n",
              "\n",
              "   MonthlyIncome  NumberOfDependents  rf_preds  et_preds  \n",
              "0         8158.0                 0.0  0.073941  0.060658  \n",
              "1         5166.0                 0.0  0.082821  0.071172  \n",
              "2         6666.0                 0.0  0.138232  0.117570  \n",
              "3        10500.0                 2.0  0.123030  0.109082  \n",
              "4          400.0                 0.0  0.130461  0.138185  "
            ],
            "text/html": [
              "\n",
              "  <div id=\"df-6d05828a-3eb5-4ad5-8ac0-74446bc66a6f\">\n",
              "    <div class=\"colab-df-container\">\n",
              "      <div>\n",
              "<style scoped>\n",
              "    .dataframe tbody tr th:only-of-type {\n",
              "        vertical-align: middle;\n",
              "    }\n",
              "\n",
              "    .dataframe tbody tr th {\n",
              "        vertical-align: top;\n",
              "    }\n",
              "\n",
              "    .dataframe thead th {\n",
              "        text-align: right;\n",
              "    }\n",
              "</style>\n",
              "<table border=\"1\" class=\"dataframe\">\n",
              "  <thead>\n",
              "    <tr style=\"text-align: right;\">\n",
              "      <th></th>\n",
              "      <th>age</th>\n",
              "      <th>NumberOfTime30-59DaysPastDueNotWorse</th>\n",
              "      <th>DebtRatio</th>\n",
              "      <th>NumberOfTimes90DaysLate</th>\n",
              "      <th>NumberOfTime60-89DaysPastDueNotWorse</th>\n",
              "      <th>MonthlyIncome</th>\n",
              "      <th>NumberOfDependents</th>\n",
              "      <th>rf_preds</th>\n",
              "      <th>et_preds</th>\n",
              "    </tr>\n",
              "  </thead>\n",
              "  <tbody>\n",
              "    <tr>\n",
              "      <th>0</th>\n",
              "      <td>64</td>\n",
              "      <td>0</td>\n",
              "      <td>0.249908</td>\n",
              "      <td>0</td>\n",
              "      <td>0</td>\n",
              "      <td>8158.0</td>\n",
              "      <td>0.0</td>\n",
              "      <td>0.073941</td>\n",
              "      <td>0.060658</td>\n",
              "    </tr>\n",
              "    <tr>\n",
              "      <th>1</th>\n",
              "      <td>58</td>\n",
              "      <td>0</td>\n",
              "      <td>3870.000000</td>\n",
              "      <td>0</td>\n",
              "      <td>0</td>\n",
              "      <td>5166.0</td>\n",
              "      <td>0.0</td>\n",
              "      <td>0.082821</td>\n",
              "      <td>0.071172</td>\n",
              "    </tr>\n",
              "    <tr>\n",
              "      <th>2</th>\n",
              "      <td>41</td>\n",
              "      <td>0</td>\n",
              "      <td>0.456127</td>\n",
              "      <td>0</td>\n",
              "      <td>0</td>\n",
              "      <td>6666.0</td>\n",
              "      <td>0.0</td>\n",
              "      <td>0.138232</td>\n",
              "      <td>0.117570</td>\n",
              "    </tr>\n",
              "    <tr>\n",
              "      <th>3</th>\n",
              "      <td>43</td>\n",
              "      <td>0</td>\n",
              "      <td>0.000190</td>\n",
              "      <td>0</td>\n",
              "      <td>0</td>\n",
              "      <td>10500.0</td>\n",
              "      <td>2.0</td>\n",
              "      <td>0.123030</td>\n",
              "      <td>0.109082</td>\n",
              "    </tr>\n",
              "    <tr>\n",
              "      <th>4</th>\n",
              "      <td>49</td>\n",
              "      <td>0</td>\n",
              "      <td>0.271820</td>\n",
              "      <td>0</td>\n",
              "      <td>0</td>\n",
              "      <td>400.0</td>\n",
              "      <td>0.0</td>\n",
              "      <td>0.130461</td>\n",
              "      <td>0.138185</td>\n",
              "    </tr>\n",
              "  </tbody>\n",
              "</table>\n",
              "</div>\n",
              "      <button class=\"colab-df-convert\" onclick=\"convertToInteractive('df-6d05828a-3eb5-4ad5-8ac0-74446bc66a6f')\"\n",
              "              title=\"Convert this dataframe to an interactive table.\"\n",
              "              style=\"display:none;\">\n",
              "        \n",
              "  <svg xmlns=\"http://www.w3.org/2000/svg\" height=\"24px\"viewBox=\"0 0 24 24\"\n",
              "       width=\"24px\">\n",
              "    <path d=\"M0 0h24v24H0V0z\" fill=\"none\"/>\n",
              "    <path d=\"M18.56 5.44l.94 2.06.94-2.06 2.06-.94-2.06-.94-.94-2.06-.94 2.06-2.06.94zm-11 1L8.5 8.5l.94-2.06 2.06-.94-2.06-.94L8.5 2.5l-.94 2.06-2.06.94zm10 10l.94 2.06.94-2.06 2.06-.94-2.06-.94-.94-2.06-.94 2.06-2.06.94z\"/><path d=\"M17.41 7.96l-1.37-1.37c-.4-.4-.92-.59-1.43-.59-.52 0-1.04.2-1.43.59L10.3 9.45l-7.72 7.72c-.78.78-.78 2.05 0 2.83L4 21.41c.39.39.9.59 1.41.59.51 0 1.02-.2 1.41-.59l7.78-7.78 2.81-2.81c.8-.78.8-2.07 0-2.86zM5.41 20L4 18.59l7.72-7.72 1.47 1.35L5.41 20z\"/>\n",
              "  </svg>\n",
              "      </button>\n",
              "      \n",
              "  <style>\n",
              "    .colab-df-container {\n",
              "      display:flex;\n",
              "      flex-wrap:wrap;\n",
              "      gap: 12px;\n",
              "    }\n",
              "\n",
              "    .colab-df-convert {\n",
              "      background-color: #E8F0FE;\n",
              "      border: none;\n",
              "      border-radius: 50%;\n",
              "      cursor: pointer;\n",
              "      display: none;\n",
              "      fill: #1967D2;\n",
              "      height: 32px;\n",
              "      padding: 0 0 0 0;\n",
              "      width: 32px;\n",
              "    }\n",
              "\n",
              "    .colab-df-convert:hover {\n",
              "      background-color: #E2EBFA;\n",
              "      box-shadow: 0px 1px 2px rgba(60, 64, 67, 0.3), 0px 1px 3px 1px rgba(60, 64, 67, 0.15);\n",
              "      fill: #174EA6;\n",
              "    }\n",
              "\n",
              "    [theme=dark] .colab-df-convert {\n",
              "      background-color: #3B4455;\n",
              "      fill: #D2E3FC;\n",
              "    }\n",
              "\n",
              "    [theme=dark] .colab-df-convert:hover {\n",
              "      background-color: #434B5C;\n",
              "      box-shadow: 0px 1px 3px 1px rgba(0, 0, 0, 0.15);\n",
              "      filter: drop-shadow(0px 1px 2px rgba(0, 0, 0, 0.3));\n",
              "      fill: #FFFFFF;\n",
              "    }\n",
              "  </style>\n",
              "\n",
              "      <script>\n",
              "        const buttonEl =\n",
              "          document.querySelector('#df-6d05828a-3eb5-4ad5-8ac0-74446bc66a6f button.colab-df-convert');\n",
              "        buttonEl.style.display =\n",
              "          google.colab.kernel.accessAllowed ? 'block' : 'none';\n",
              "\n",
              "        async function convertToInteractive(key) {\n",
              "          const element = document.querySelector('#df-6d05828a-3eb5-4ad5-8ac0-74446bc66a6f');\n",
              "          const dataTable =\n",
              "            await google.colab.kernel.invokeFunction('convertToInteractive',\n",
              "                                                     [key], {});\n",
              "          if (!dataTable) return;\n",
              "\n",
              "          const docLinkHtml = 'Like what you see? Visit the ' +\n",
              "            '<a target=\"_blank\" href=https://colab.research.google.com/notebooks/data_table.ipynb>data table notebook</a>'\n",
              "            + ' to learn more about interactive tables.';\n",
              "          element.innerHTML = '';\n",
              "          dataTable['output_type'] = 'display_data';\n",
              "          await google.colab.output.renderOutput(dataTable, element);\n",
              "          const docLink = document.createElement('div');\n",
              "          docLink.innerHTML = docLinkHtml;\n",
              "          element.appendChild(docLink);\n",
              "        }\n",
              "      </script>\n",
              "    </div>\n",
              "  </div>\n",
              "  "
            ]
          },
          "metadata": {},
          "execution_count": 27
        }
      ],
      "source": [
        "X.head()"
      ]
    },
    {
      "cell_type": "code",
      "execution_count": 28,
      "metadata": {
        "id": "suA0xLs2vWM6",
        "outputId": "45afacf4-ba0f-49f7-8548-97952b3be3f2",
        "colab": {
          "base_uri": "https://localhost:8080/"
        }
      },
      "outputs": [
        {
          "output_type": "stream",
          "name": "stdout",
          "text": [
            "Fitting 3 folds for each of 60 candidates, totalling 180 fits\n"
          ]
        },
        {
          "output_type": "execute_result",
          "data": {
            "text/plain": [
              "GridSearchCV(cv=StratifiedKFold(n_splits=3, random_state=42, shuffle=True),\n",
              "             estimator=ExtraTreesClassifier(n_jobs=-1, random_state=42),\n",
              "             n_jobs=-1,\n",
              "             param_grid={'max_depth': [5, 10, 15, 20],\n",
              "                         'max_features': [3, 4, 5, 6, 7],\n",
              "                         'min_samples_leaf': [1, 3, 5]},\n",
              "             scoring='roc_auc', verbose=1)"
            ]
          },
          "metadata": {},
          "execution_count": 28
        }
      ],
      "source": [
        "parameters = {'max_features': [3, 4, 5, 6, 7], 'min_samples_leaf': [1, 3, 5], 'max_depth': [5,10,15,20]}\n",
        "etc = ExtraTreesClassifier(n_estimators=100, random_state=42, n_jobs=-1)\n",
        "etcv = GridSearchCV(etc, parameters, n_jobs=-1, cv=skf, verbose=1, scoring='roc_auc')\n",
        "etcv.fit(X, y)"
      ]
    },
    {
      "cell_type": "code",
      "execution_count": 29,
      "metadata": {
        "id": "SGkd6ChHvWM6",
        "outputId": "0c39e9ce-7ed7-4f1f-c547-dee03381984c",
        "colab": {
          "base_uri": "https://localhost:8080/"
        }
      },
      "outputs": [
        {
          "output_type": "execute_result",
          "data": {
            "text/plain": [
              "0.8283615523690123"
            ]
          },
          "metadata": {},
          "execution_count": 29
        }
      ],
      "source": [
        "etcv.best_score_"
      ]
    },
    {
      "cell_type": "code",
      "execution_count": 30,
      "metadata": {
        "id": "5AMOfJSavWM7",
        "outputId": "ac86100e-300d-4736-9aed-01eb3dc59949",
        "colab": {
          "base_uri": "https://localhost:8080/",
          "height": 494
        }
      },
      "outputs": [
        {
          "output_type": "stream",
          "name": "stdout",
          "text": [
            "Feature ranking:\n",
            "1. rf_preds 0.426286 \n",
            "2. et_preds 0.376238 \n",
            "3. age 0.041384 \n",
            "4. NumberOfTimes90DaysLate 0.035426 \n",
            "5. NumberOfTime30-59DaysPastDueNotWorse 0.034189 \n",
            "6. NumberOfTime60-89DaysPastDueNotWorse 0.032770 \n",
            "7. MonthlyIncome 0.020093 \n",
            "8. DebtRatio 0.017004 \n",
            "9. NumberOfDependents 0.016610 \n"
          ]
        },
        {
          "output_type": "display_data",
          "data": {
            "text/plain": [
              "<Figure size 1080x360 with 1 Axes>"
            ],
            "image/png": "[encoded data removed]"
          },
          "metadata": {
            "needs_background": "light"
          }
        }
      ],
      "source": [
        "importances = etcv.best_estimator_.feature_importances_\n",
        "features = X.columns\n",
        "\n",
        "indices = np.argsort(importances)[::-1]\n",
        "# Plot the feature importancies of the forest\n",
        "num_to_plot = len(features)\n",
        "feature_indices = [ind+1 for ind in indices[:num_to_plot]]\n",
        "\n",
        "# Print the feature ranking\n",
        "print(\"Feature ranking:\")\n",
        "  \n",
        "for f in range(num_to_plot):\n",
        "    print(\"%d. %s %f \" % (f + 1, \n",
        "            features[feature_indices[f]-1], \n",
        "            importances[indices[f]]))\n",
        "plt.figure(figsize=(15,5))\n",
        "plt.title(\"Stacking feature importance\")\n",
        "bars = plt.bar(range(num_to_plot), \n",
        "               importances[indices[:num_to_plot]],\n",
        "       color=([str(i/float(num_to_plot+1)) \n",
        "               for i in range(num_to_plot)]),\n",
        "               align=\"center\")\n",
        "ticks = plt.xticks(range(num_to_plot), \n",
        "                   feature_indices)\n",
        "plt.xlim([-1, num_to_plot])\n",
        "plt.legend(bars, [u''.join(features[i-1]) + \" ({})\".format(i) \n",
        "                  for i in feature_indices]);"
      ]
    },
    {
      "cell_type": "code",
      "execution_count": 31,
      "metadata": {
        "scrolled": true,
        "id": "F00CkKyZvWM7",
        "outputId": "2a246fa5-145d-4471-e382-f97edf7489f4",
        "colab": {
          "base_uri": "https://localhost:8080/"
        }
      },
      "outputs": [
        {
          "output_type": "execute_result",
          "data": {
            "text/plain": [
              "array([[1.        , 0.97347315],\n",
              "       [0.97347315, 1.        ]])"
            ]
          },
          "metadata": {},
          "execution_count": 31
        }
      ],
      "source": [
        "np.corrcoef([X[\"rf_preds\"], X[\"et_preds\"]])"
      ]
    },
    {
      "cell_type": "markdown",
      "source": [
        "## Homework\n",
        "Improve results on the dataset from previous homework with:\n",
        "1. Simple ensembling approaches (mean, median, etc.)\n",
        "2. Stacking"
      ],
      "metadata": {
        "id": "2Lhdxs8FkZ_o"
      }
    },
    {
      "cell_type": "code",
      "source": [],
      "metadata": {
        "id": "APVC6CFskq_k"
      },
      "execution_count": null,
      "outputs": []
    }
  ],
  "metadata": {
    "kernelspec": {
      "display_name": "projector_course",
      "language": "python",
      "name": "projector_course"
    },
    "language_info": {
      "codemirror_mode": {
        "name": "ipython",
        "version": 3
      },
      "file_extension": ".py",
      "mimetype": "text/x-python",
      "name": "python",
      "nbconvert_exporter": "python",
      "pygments_lexer": "ipython3",
      "version": "3.6.8"
    },
    "colab": {
      "provenance": []
    }
  },
  "nbformat": 4,
  "nbformat_minor": 0
}